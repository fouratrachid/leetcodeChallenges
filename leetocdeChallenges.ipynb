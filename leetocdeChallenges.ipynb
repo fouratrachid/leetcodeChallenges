{
  "nbformat": 4,
  "nbformat_minor": 0,
  "metadata": {
    "colab": {
      "provenance": []
    },
    "kernelspec": {
      "name": "python3",
      "display_name": "Python 3"
    },
    "language_info": {
      "name": "python"
    }
  },
  "cells": [
    {
      "cell_type": "markdown",
      "source": [
        "## Two Sum - Leetcode 1 - HashMap"
      ],
      "metadata": {
        "id": "X8fsavqiGpqf"
      }
    },
    {
      "cell_type": "code",
      "execution_count": 1,
      "metadata": {
        "colab": {
          "base_uri": "https://localhost:8080/"
        },
        "id": "hBCuHmHavg3C",
        "outputId": "8f9d02c5-9b84-4d28-d269-40666b98ef80"
      },
      "outputs": [
        {
          "output_type": "stream",
          "name": "stdout",
          "text": [
            "[1, 0]\n"
          ]
        }
      ],
      "source": [
        "from typing import List \n",
        "class Solution:\n",
        "    def twoSum(self, nums: List[int], target: int) -> List[int]:\n",
        "        dic = {}\n",
        "        for i ,j in enumerate(nums):\n",
        "            dif = target - j \n",
        "            if dif in dic:\n",
        "                return [i,dic[dif]]\n",
        "            else:\n",
        "                dic[j] = i\n",
        "        return []\n",
        "a = Solution()\n",
        "x = [2,7,11,15]\n",
        "t = 9 \n",
        "print(a.twoSum(x,t))\n",
        "      \n"
      ]
    },
    {
      "cell_type": "markdown",
      "source": [
        "## Sliding Window: Best Time to Buy and Sell Stock - Leetcode 121 "
      ],
      "metadata": {
        "id": "g3klzQ43J5_u"
      }
    },
    {
      "cell_type": "code",
      "source": [
        "from typing import List \n",
        "def maxProfit(prices: List[int]) -> int:\n",
        "        x = len(prices)\n",
        "        flous = 0\n",
        "        l = 0\n",
        "        r = 1 \n",
        "        while r < x:\n",
        "          if prices[r]> prices[l]:\n",
        "            flouss = prices[r]-prices[l]\n",
        "            flous = max(flous,flouss)\n",
        "          else:\n",
        "            l=r\n",
        "          r+=1\n",
        "        return flous\n",
        "def maxProfit1(prices: List[int]) -> int:\n",
        "        minPrice = prices[0]\n",
        "        result = 0\n",
        "        for p in prices:\n",
        "            minPrice = min(minPrice, p)\n",
        "            result = max(result, p - minPrice)\n",
        "        return result\n",
        "\n",
        "prices = [7,1,5,3,6,4]\n",
        "price = [7,6,4,3,1]\n",
        "print(maxProfit(price))"
      ],
      "metadata": {
        "colab": {
          "base_uri": "https://localhost:8080/"
        },
        "id": "AyhgEASrweHF",
        "outputId": "d402445e-7187-4c17-bf86-c09cd669b000"
      },
      "execution_count": 7,
      "outputs": [
        {
          "output_type": "stream",
          "name": "stdout",
          "text": [
            "0\n"
          ]
        }
      ]
    },
    {
      "cell_type": "markdown",
      "source": [
        "## Sliding Window: Best Time to Buy and Sell Stock II - Leetcode 121 "
      ],
      "metadata": {
        "id": "7M5ZzYg0IPAZ"
      }
    },
    {
      "cell_type": "code",
      "source": [],
      "metadata": {
        "id": "j0v51Elg9j9h"
      },
      "execution_count": null,
      "outputs": []
    },
    {
      "cell_type": "markdown",
      "source": [
        "## Contains Duplicate - Leetcode 217 "
      ],
      "metadata": {
        "id": "3Ubgz-gUZCwQ"
      }
    },
    {
      "cell_type": "code",
      "source": [
        "from typing import List\n",
        "def containsDuplicate(nums: List[int]) -> bool:\n",
        "  testset = set()\n",
        "  for num in nums:\n",
        "      if num in testset:\n",
        "        return True\n",
        "      testset.add(num)\n",
        "  return False\n",
        "a = [1,2,3,1]\n",
        "b = [1,2,3,4]\n",
        "c = [1,1,1,3,3,4,3,2,4,2]\n",
        "print(containsDuplicate(a))\n",
        "print(containsDuplicate(b))\n",
        "print(containsDuplicate(c))\n",
        "\n"
      ],
      "metadata": {
        "colab": {
          "base_uri": "https://localhost:8080/"
        },
        "id": "00H-pt24ZEd1",
        "outputId": "84c5670b-763a-448c-b06f-c8ce7aaac787"
      },
      "execution_count": 13,
      "outputs": [
        {
          "output_type": "stream",
          "name": "stdout",
          "text": [
            "True\n",
            "False\n",
            "True\n"
          ]
        }
      ]
    },
    {
      "cell_type": "code",
      "source": [],
      "metadata": {
        "id": "FNtNYEr4Zxda"
      },
      "execution_count": null,
      "outputs": []
    }
  ]
}